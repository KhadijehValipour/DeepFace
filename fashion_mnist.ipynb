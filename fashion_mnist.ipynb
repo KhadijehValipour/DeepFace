{
  "nbformat": 4,
  "nbformat_minor": 0,
  "metadata": {
    "colab": {
      "provenance": []
    },
    "kernelspec": {
      "name": "python3",
      "display_name": "Python 3"
    },
    "language_info": {
      "name": "python"
    }
  },
  "cells": [
    {
      "cell_type": "code",
      "execution_count": 16,
      "metadata": {
        "id": "Vts5EM474zzU"
      },
      "outputs": [],
      "source": [
        "import matplotlib.pyplot as plt\n",
        "import tensorflow as tf\n",
        "fashion_mnist = tf.keras.datasets.fashion_mnist\n",
        "\n",
        "\n",
        "(X_train , Y_train) , (X_test , Y_tset) = fashion_mnist.load_data()\n",
        "X_train , X_test = X_train / 255.0 , X_test / 255.0\n",
        "\n"
      ]
    },
    {
      "cell_type": "code",
      "source": [
        "plt.imshow(X_train[26])"
      ],
      "metadata": {
        "colab": {
          "base_uri": "https://localhost:8080/",
          "height": 447
        },
        "id": "YpPCJGc3_iYV",
        "outputId": "2ed49c96-bf8a-46b6-f82b-c22379fbf69d"
      },
      "execution_count": 14,
      "outputs": [
        {
          "output_type": "execute_result",
          "data": {
            "text/plain": [
              "<matplotlib.image.AxesImage at 0x7a7a2ede9630>"
            ]
          },
          "metadata": {},
          "execution_count": 14
        },
        {
          "output_type": "display_data",
          "data": {
            "text/plain": [
              "<Figure size 640x480 with 1 Axes>"
            ],
            "image/png": "[encoded data removed]"
          },
          "metadata": {}
        }
      ]
    },
    {
      "cell_type": "code",
      "source": [
        "model = tf.keras.models.Sequential([\n",
        "    tf.keras.layers.Flatten(input_shape=(28,28)),\n",
        "    tf.keras.layers.Dense(128 , activation= 'relu'),\n",
        "    tf.keras.layers.Dropout(0.2),\n",
        "    tf.keras.layers.Dense(10, activation= 'softmax')\n",
        "])\n",
        "\n",
        "\n",
        "model.compile( optimizer= 'adam',\n",
        "              loss = 'sparse_categorical_crossentropy',\n",
        "               metrics = ['accuracy'])\n",
        "\n",
        "model.fit(X_train, Y_train , epochs= 5)\n",
        "model.evaluate(X_test, Y_tset)"
      ],
      "metadata": {
        "colab": {
          "base_uri": "https://localhost:8080/"
        },
        "id": "P9Vq-ed47wYG",
        "outputId": "9e2b76c4-dd4c-478c-a72e-b279c83c8daa"
      },
      "execution_count": 15,
      "outputs": [
        {
          "output_type": "stream",
          "name": "stdout",
          "text": [
            "Epoch 1/5\n",
            "1875/1875 [==============================] - 8s 4ms/step - loss: 0.5326 - accuracy: 0.8112\n",
            "Epoch 2/5\n",
            "1875/1875 [==============================] - 7s 4ms/step - loss: 0.4005 - accuracy: 0.8549\n",
            "Epoch 3/5\n",
            "1875/1875 [==============================] - 8s 4ms/step - loss: 0.3654 - accuracy: 0.8672\n",
            "Epoch 4/5\n",
            "1875/1875 [==============================] - 7s 4ms/step - loss: 0.3472 - accuracy: 0.8726\n",
            "Epoch 5/5\n",
            "1875/1875 [==============================] - 7s 4ms/step - loss: 0.3298 - accuracy: 0.8779\n",
            "313/313 [==============================] - 1s 2ms/step - loss: 0.3533 - accuracy: 0.8715\n"
          ]
        },
        {
          "output_type": "execute_result",
          "data": {
            "text/plain": [
              "[0.3533324897289276, 0.8715000152587891]"
            ]
          },
          "metadata": {},
          "execution_count": 15
        }
      ]
    }
  ]
}